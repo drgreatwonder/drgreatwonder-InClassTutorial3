{
 "cells": [
  {
   "cell_type": "markdown",
   "metadata": {},
   "source": [
    "# Create an ndarrays"
   ]
  },
  {
   "cell_type": "code",
   "execution_count": 2,
   "metadata": {},
   "outputs": [],
   "source": [
    "import numpy as np\n",
    "\n",
    "# Using the Built-in functions you learned about in the previous lesson, create a 4 x 4 ndarray that only\n",
    "# contains consecutive even numbers from 2 to 32 (inclusive)"
   ]
  },
  {
   "cell_type": "code",
   "execution_count": 3,
   "metadata": {},
   "outputs": [
    {
     "name": "stdout",
     "output_type": "stream",
     "text": [
      "[[ 2.  4.  6.  8.]\n",
      " [10. 12. 14. 16.]\n",
      " [18. 20. 22. 24.]\n",
      " [26. 28. 30. 32.]]\n"
     ]
    }
   ],
   "source": [
    "# X = np.linspace(2,32).reshape(4,4) produced ValueError: cannot reshape array of size 50 into shape (4,4)\n",
    "X = np.linspace(2,32,16).reshape(4,4)\n",
    "print(X) # remember that without the 3rd element, the default number of elements will be 50"
   ]
  },
  {
   "cell_type": "markdown",
   "metadata": {},
   "source": [
    "# Manipulating ndarrays"
   ]
  },
  {
   "cell_type": "code",
   "execution_count": 19,
   "metadata": {},
   "outputs": [],
   "source": [
    "# Create a 5 x 5 ndarray with consecutive integers from 1 to 25 (inclusive).\n",
    "# Afterwards use Boolean indexing to pick out only the odd numbers in the array"
   ]
  },
  {
   "cell_type": "code",
   "execution_count": 31,
   "metadata": {},
   "outputs": [
    {
     "name": "stdout",
     "output_type": "stream",
     "text": [
      "[[ 0  1  2  3  4]\n",
      " [ 5  6  7  8  9]\n",
      " [10 11 12 13 14]\n",
      " [15 16 17 18 19]\n",
      " [20 21 22 23 24]]\n"
     ]
    }
   ],
   "source": [
    "X = np.arange(1,26).reshape(5,5)\n",
    "print (y)"
   ]
  },
  {
   "cell_type": "code",
   "execution_count": 32,
   "metadata": {},
   "outputs": [
    {
     "name": "stdout",
     "output_type": "stream",
     "text": [
      "[ 1  3  5  7  9 11 13 15 17 19 21 23]\n"
     ]
    }
   ],
   "source": [
    "z = y[(y%2)==1 ]\n",
    "print(z)"
   ]
  },
  {
   "cell_type": "markdown",
   "metadata": {},
   "source": [
    "# Creating ndarrays with Broadcasting"
   ]
  },
  {
   "cell_type": "code",
   "execution_count": 11,
   "metadata": {},
   "outputs": [
    {
     "name": "stdout",
     "output_type": "stream",
     "text": [
      "[[0. 0. 0. 0.]\n",
      " [0. 0. 0. 0.]\n",
      " [0. 0. 0. 0.]\n",
      " [0. 0. 0. 0.]] \n",
      "\n",
      "[1 2 3 4] \n",
      "\n",
      "[[1. 2. 3. 4.]\n",
      " [1. 2. 3. 4.]\n",
      " [1. 2. 3. 4.]\n",
      " [1. 2. 3. 4.]]\n"
     ]
    }
   ],
   "source": [
    "import numpy as np\n",
    "\n",
    "# Use Broadcasting to create a 4 x 4 ndarray that has its first column full of 1s, \n",
    "#its second column full of 2s, its third column full of 3s, etc.. \n",
    "\n",
    "# Initialize `x`\n",
    "# x = np.ones((4,4)) When addition is done, it will not produce a matrix that starts from 2s, instead of 1s\n",
    "# print(x, \"\\n\")\n",
    "\n",
    "# let's test using np.zeros\n",
    "x = np.zeros((4,4))\n",
    "print(x, \"\\n\")\n",
    "\n",
    "# Check shape of `x`\n",
    "#print(x.shape)\n",
    "\n",
    "# Initialize `y`\n",
    "y = np.arange(1,5)\n",
    "print(y, \"\\n\")\n",
    "\n",
    "# Check shape of `y`\n",
    "#print(y.shape)\n",
    "\n",
    "# Subtract `x` and `y` this outputted negative values\n",
    "# print(x - y) \n",
    "\n",
    "# let's try addition\n",
    "print(x + y) \n"
   ]
  },
  {
   "cell_type": "code",
   "execution_count": null,
   "metadata": {},
   "outputs": [],
   "source": []
  }
 ],
 "metadata": {
  "kernelspec": {
   "display_name": "Python 3",
   "language": "python",
   "name": "python3"
  },
  "language_info": {
   "codemirror_mode": {
    "name": "ipython",
    "version": 3
   },
   "file_extension": ".py",
   "mimetype": "text/x-python",
   "name": "python",
   "nbconvert_exporter": "python",
   "pygments_lexer": "ipython3",
   "version": "3.7.5"
  }
 },
 "nbformat": 4,
 "nbformat_minor": 4
}
