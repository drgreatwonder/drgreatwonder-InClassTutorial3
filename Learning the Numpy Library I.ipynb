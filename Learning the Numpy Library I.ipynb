{
 "cells": [
  {
   "cell_type": "markdown",
   "metadata": {},
   "source": [
    "# Introduction\n",
    "\n",
    "NumPy stands for Numerical Python and it's a fundamental package for scientific computing in Python. NumPy provides Python with an extensive math library capable of performing numerical computations effectively and efficiently.\n",
    "\n",
    "<u>Overview</u>\n",
    "\n",
    "* How to import NumPy\n",
    "+ How to create multidimensional NumPy ndarrays using various methods\n",
    "- How to access and change elements in ndarrays\n",
    "- How to load and save ndarrays\n",
    "+ How to use slicing to select or change subsets of an ndarray\n",
    "* Understand the difference between a view and a copy an of ndarray\n",
    "* How to use Boolean indexing and set operations to select or change subsets of an ndarray\n",
    "* How to sort ndarrays\n",
    "* How to perform element-wise operations on ndarrays\n",
    "+ Understand how NumPy uses broadcasting to perform operations on ndarrays of different sizes.\n",
    "\n",
    "\n",
    "You can check which version of NumPy you have by typing *!conda list numpy* in your Jupyter Notebook or by typing *conda list numpy* in the Anaconda prompt.\n",
    "\n",
    "\n",
    "For more indepth study of numpy:\n",
    "\n",
    "* [NumPy Manual](https://docs.scipy.org/doc/numpy-1.13.0/contents.html)\n",
    "* [NumPy User Guide](https://docs.scipy.org/doc/numpy-1.13.0/user/index.html)\n",
    "+ [NumPy Reference](https://docs.scipy.org/doc/numpy-1.13.0/reference/index.html#reference)\n",
    "- [Scipy Lectures](http://scipy-lectures.org/intro/numpy/index.html)\n",
    "\n"
   ]
  },
  {
   "cell_type": "markdown",
   "metadata": {},
   "source": [
    "One of the key features that Numpy has over python list is speed. When performing operations on large arrays, NumPy can often perform several orders of magnitude faster than Python lists. This speed comes from the nature of NumPy arrays being *memory-efficient* and from *optimized algorithms* used by NumPy for doing:\n",
    "* arithmetic operations\n",
    "+ statistical operations\n",
    "- linear algebra operations\n",
    "\n",
    "Another great feature of NumPy is that it has multidimensional array data structures that can represent:\n",
    "+ vectors\n",
    "- matrices (a lot of machine learning algorithms rely on matrix operations). For example, when training a Neural Network, you often have to carry out many matrix multiplications. NumPy is optimized for matrix operations and it allows us to do Linear Algebra operations effectively and efficiently, making it very suitable for solving machine learning problems.\n",
    "\n",
    "Another great advantage of NumPy over Python lists is that NumPy has a large number of optimized built-in mathematical functions. These functions allow you to do a variety of complex mathematical computations very fast and with very little code (avoiding the use of complicated loops) making your programs more readable and easier to understand.\n",
    "\n",
    "Yet another great advantage of NumPy is that it can handle more data-types than Python lists. You can check out all the different data types NumPy supports in the link below: [NumPy Data Types](https://docs.scipy.org/doc/numpy-1.13.0/user/basics.types.html)\n",
    "\n",
    "**Summary:** NumPy is fast, NumPy has multidimensional array data structures, and it has a large number of optimized built-in mathematical functions.\n",
    "\n",
    "NumPy has become so popular that a lot of Python packages, such as **Pandas**, are built on top of NumPy."
   ]
  },
  {
   "cell_type": "markdown",
   "metadata": {},
   "source": [
    "# Creating and Saving Numpy Arrays\n",
    "\n",
    "At the core of NumPy is the *ndarray*, where *nd* stands for *n-dimensional*. An ndarray is a *multidimensional array* of elements all of the same type. In other words, an ndarray is a grid that can take on many shapes and can hold either numbers or strings. In many Machine Learning problems you will often find yourself using ndarrays in many different ways. For instance, you might use an ndarray to hold the pixel values of an image that will be fed into a Neural Network for image classification.\n",
    "\n",
    "Numpy arrays are created using:\n",
    "1. Numpy array function to create them from other array like objects such as regular python list\n",
    "2. Using a variety of built-in NumPy functions that quickly generates specific types of NumPy arrays"
   ]
  },
  {
   "cell_type": "code",
   "execution_count": 5,
   "metadata": {},
   "outputs": [
    {
     "data": {
      "text/plain": [
       "array([1, 2, 3, 4, 5])"
      ]
     },
     "execution_count": 5,
     "metadata": {},
     "output_type": "execute_result"
    }
   ],
   "source": [
    "#1. Creating from a python list\n",
    "import numpy as np\n",
    "my_list = [1, 2, 3, 4, 5]\n",
    "np.array(my_list)"
   ]
  },
  {
   "cell_type": "code",
   "execution_count": 6,
   "metadata": {},
   "outputs": [
    {
     "data": {
      "text/plain": [
       "array([1, 2, 3, 4, 5])"
      ]
     },
     "execution_count": 6,
     "metadata": {},
     "output_type": "execute_result"
    }
   ],
   "source": [
    "#2. This is a one dimensional array\n",
    "x = np.array([1, 2, 3, 4, 5])\n",
    "x"
   ]
  },
  {
   "cell_type": "markdown",
   "metadata": {},
   "source": [
    "The shape of an array is the size along each of its dimensions. For example, the shape of a *rank 2* array will correspond to the number of rows and columns of the array. For example, the shape of an ndarray can be obtained using the *.shape()* attribute.\n",
    "\n",
    "The shape attribute returns a tuple of N positive integers that specify the sizes of each dimension. the *.dtype()* attribute tells us that the elements of x are stored in memory as signed 32-bit integers.In the example below we will create a *rank 1* array and learn how to obtain its shape, its type, and the data-type (dtype) of its elements."
   ]
  },
  {
   "cell_type": "code",
   "execution_count": 7,
   "metadata": {},
   "outputs": [
    {
     "name": "stdout",
     "output_type": "stream",
     "text": [
      "<class 'numpy.ndarray'>\n",
      "int32\n",
      "(5,)\n"
     ]
    }
   ],
   "source": [
    "print(type(x)) #returns the type of the array\n",
    "print(x.dtype) #returns the type of the elements in the array. It is a 32bit int\n",
    "print(x.shape) #returns a tuple of n-positive integers that specifies the length of the array\n",
    "#If this was a 2-dimensional array, the shape method will return 2 values (rows and columns)"
   ]
  },
  {
   "cell_type": "code",
   "execution_count": 8,
   "metadata": {},
   "outputs": [
    {
     "name": "stdout",
     "output_type": "stream",
     "text": [
      "[[ 1  2  3]\n",
      " [ 4  5  6]\n",
      " [ 7  8  9]\n",
      " [10 11 12]]\n"
     ]
    },
    {
     "data": {
      "text/plain": [
       "(4, 3)"
      ]
     },
     "execution_count": 8,
     "metadata": {},
     "output_type": "execute_result"
    }
   ],
   "source": [
    "# This is a two dimensional array\n",
    "y = np.array([[1,2,3], [4,5,6], [7,8,9], [10,11,12]])\n",
    "print(y)\n",
    "y.shape"
   ]
  },
  {
   "cell_type": "code",
   "execution_count": 9,
   "metadata": {},
   "outputs": [
    {
     "data": {
      "text/plain": [
       "12"
      ]
     },
     "execution_count": 9,
     "metadata": {},
     "output_type": "execute_result"
    }
   ],
   "source": [
    "y.size #gives us the total number of elements in y"
   ]
  },
  {
   "cell_type": "markdown",
   "metadata": {},
   "source": [
    "Generally, an array with n-dimension is seen as a *rank n*. The 1D array (x) we created earlier is seen as a *rank* 1 array while the second is a 2D array (y) is konwn as a *rank* 2 array. Let's go ahead to create a 1D array using string."
   ]
  },
  {
   "cell_type": "code",
   "execution_count": 10,
   "metadata": {},
   "outputs": [
    {
     "name": "stdout",
     "output_type": "stream",
     "text": [
      "['Hello' 'World']\n",
      "Type: <class 'numpy.ndarray'>\n",
      "D.Type: <U5\n",
      "Shape: (2,)\n",
      "Size: 2\n"
     ]
    }
   ],
   "source": [
    "z = np.array([\"Hello\", \"World\"])\n",
    "print(z)\n",
    "print(\"Type:\", type(z))\n",
    "print(\"D.Type:\", z.dtype) #it returns a unicode string of 5 characters\n",
    "print(\"Shape:\", z.shape)\n",
    "print(\"Size:\", z.size)"
   ]
  },
  {
   "cell_type": "code",
   "execution_count": 11,
   "metadata": {},
   "outputs": [
    {
     "name": "stdout",
     "output_type": "stream",
     "text": [
      "['1' 'Hello' 'World' '2']\n",
      "Type: <class 'numpy.ndarray'>\n",
      "D.Type: <U11\n",
      "Shape: (4,)\n",
      "Size: 4\n"
     ]
    }
   ],
   "source": [
    "#let's create one with mixed data type\n",
    "a = np.array([1, \"Hello\", \"World\", 2])\n",
    "print(a)\n",
    "print(\"Type:\", type(a))\n",
    "print(\"D.Type:\", a.dtype) #it returns a unicode string of 11 characters.\n",
    "print(\"Shape:\", a.shape)\n",
    "print(\"Size:\", a.size) #gives the number of the element in the array"
   ]
  },
  {
   "cell_type": "markdown",
   "metadata": {},
   "source": [
    "the .dtype attribute tells us that the elements in a are stored in memory as Unicode strings of 11 characters.\n",
    "\n",
    "It is important to remember that one big difference between Python lists and ndarrays, is that unlike Python lists, all the elements of an ndarray must be of the same type.\n",
    "\n",
    "While we can create Python lists with both integers and strings, we can't mix types in ndarrays. If you provide the np.array() function with a Python list that has both integers and strings, NumPy will interpret all elements as strings. We can see this in the example above."
   ]
  },
  {
   "cell_type": "code",
   "execution_count": 12,
   "metadata": {},
   "outputs": [
    {
     "name": "stdout",
     "output_type": "stream",
     "text": [
      "[1.  2.5 3.2 4. ] int32\n",
      "[1.1 2.2 4.5 5.6] float64\n"
     ]
    }
   ],
   "source": [
    "b = np.array([1, 2.5, 3.2, 4])\n",
    "c = np.array([1.1, 2.2, 4.5, 5.6])\n",
    "print(b, x.dtype)\n",
    "print(c, c.dtype)"
   ]
  },
  {
   "cell_type": "markdown",
   "metadata": {},
   "source": [
    "\n",
    "We can see that when we create an ndarray with only floats, NumPy stores the elements in memory as *64-bit floating point numbers (float64)*. However, notice that when we create an ndarray with both floats and integers, as we did with the b ndarray above, NumPy assigns its elements a *float64* dtype as well. This is called upcasting. Since all the elements of an ndarray must be of the same type, in this case NumPy upcasts the integers in b to floats(will look into why the code above produced otherwise) in order to avoid losing precision in numerical computations.\n",
    "\n",
    "Even though NumPy automatically selects the dtype of the ndarray, NumPy also allows you to specify the particular dtype you want to assign to the elements of the ndarray. You can specify the dtype when you create the ndarray using the keyword dtype in the *np.array()* function\n",
    "\n",
    "Here is an example below:"
   ]
  },
  {
   "cell_type": "code",
   "execution_count": 13,
   "metadata": {},
   "outputs": [
    {
     "name": "stdout",
     "output_type": "stream",
     "text": [
      "[1 2 3]\n",
      "DType: int64\n"
     ]
    }
   ],
   "source": [
    "d = np.array([1.5, 2.2, 3.7], dtype=np.int64)\n",
    "print(d)\n",
    "print(\"DType:\", d.dtype)"
   ]
  },
  {
   "cell_type": "markdown",
   "metadata": {},
   "source": [
    "We can see that even though we created the ndarray with floats, by specifying the dtype to be int64, NumPy converted the floating point numbers into integers by removing their decimals. \n",
    "\n",
    "You do this when:\n",
    "+ you don't want NumPy to accidentaly choose the wrong data type or \n",
    "* you only need a specified amount of precision in your calculations and want to save memory."
   ]
  },
  {
   "cell_type": "markdown",
   "metadata": {},
   "source": [
    "#### Saving NumPy array\n",
    "Numpy has a way of saving data to a file to be read later or to be used by another program. it does this with the *np.save* function. This file can later be loaded using the *np.load* function. \n",
    "\n",
    "When loading an array from a file, make sure you include the name of the file together with the extension *.npy*, otherwise you will get an error.\n",
    "\n",
    "Let's see an example"
   ]
  },
  {
   "cell_type": "code",
   "execution_count": 14,
   "metadata": {},
   "outputs": [],
   "source": [
    "np.save(\"my_first_np_array\", x)"
   ]
  },
  {
   "cell_type": "code",
   "execution_count": 15,
   "metadata": {},
   "outputs": [
    {
     "data": {
      "text/plain": [
       "array([1, 2, 3, 4, 5])"
      ]
     },
     "execution_count": 15,
     "metadata": {},
     "output_type": "execute_result"
    }
   ],
   "source": [
    "np.load(\"my_first_np_array.npy\")"
   ]
  },
  {
   "cell_type": "markdown",
   "metadata": {},
   "source": [
    "# Using Built-in Functions to Create ndarrays \n",
    "\n",
    "One great time-saving feature of NumPy is its ability to create ndarrays using built-in functions. These functions allow us to create certain kinds of ndarrays with just one line of code. This method is very popular in AI programming.\n",
    "\n",
    "Let's start by creating an ndarray with a specified shape that is full of zeros. We can do this by using the *np.zeros()* function. The function *np.zeros(shape)* creates an ndarray full of zeros with the given shape. So, for example, if you wanted to create a *rank 2* array with *3 rows and 4 columns*, you will pass the shape to the function in the form of (rows, columns), as in the example below:"
   ]
  },
  {
   "cell_type": "code",
   "execution_count": 16,
   "metadata": {},
   "outputs": [
    {
     "name": "stdout",
     "output_type": "stream",
     "text": [
      "\n",
      "[[0. 0. 0. 0.]\n",
      " [0. 0. 0. 0.]\n",
      " [0. 0. 0. 0.]]\n",
      "\n",
      "e has (3, 4) dimensions\n",
      "e is an object of type: <class 'numpy.ndarray'>\n",
      "The elements in e are of the float64 type\n"
     ]
    }
   ],
   "source": [
    "# We create a 3 x 4 ndarray full of zeros. \n",
    "e = np.zeros((3,4))\n",
    "\n",
    "# We print e\n",
    "print()\n",
    "print(e)\n",
    "print()\n",
    "\n",
    "# We print information about e\n",
    "print('e has', e.shape, 'dimensions')\n",
    "print('e is an object of type:', type(e))\n",
    "print('The elements in e are of the', e.dtype, 'type')"
   ]
  },
  {
   "cell_type": "markdown",
   "metadata": {},
   "source": [
    "As we can see, the np.zeros() function creates by default an array with dtype float64. If desired, the data type can be changed by using the keyword dtype. let's see an example below:"
   ]
  },
  {
   "cell_type": "code",
   "execution_count": 17,
   "metadata": {},
   "outputs": [
    {
     "name": "stdout",
     "output_type": "stream",
     "text": [
      "[[0 0 0 0]\n",
      " [0 0 0 0]\n",
      " [0 0 0 0]] \n",
      "\n",
      "int64\n"
     ]
    }
   ],
   "source": [
    "f = np.zeros((3,4), dtype=np.int64)\n",
    "print(f, \"\\n\")\n",
    "print(f.dtype)"
   ]
  },
  {
   "cell_type": "code",
   "execution_count": 18,
   "metadata": {},
   "outputs": [
    {
     "name": "stdout",
     "output_type": "stream",
     "text": [
      "[[1. 1. 1. 1.]\n",
      " [1. 1. 1. 1.]\n",
      " [1. 1. 1. 1.]\n",
      " [1. 1. 1. 1.]\n",
      " [1. 1. 1. 1.]]\n"
     ]
    }
   ],
   "source": [
    "# we can also try out np.ones too\n",
    "\n",
    "g = np.ones((5,4))\n",
    "print(g)"
   ]
  },
  {
   "cell_type": "markdown",
   "metadata": {},
   "source": [
    "We can also create an ndarray with a specified shape that is full of any number we want. We can do this by using the np.full() function. The **np.full(shape, constant value)** function takes two arguments. The first argument is the shape of the ndarray you want to make and the second is the constant value you want to populate the array with. Let's see an example:"
   ]
  },
  {
   "cell_type": "code",
   "execution_count": 19,
   "metadata": {},
   "outputs": [
    {
     "name": "stdout",
     "output_type": "stream",
     "text": [
      "[[5 5 5 5 5 5 5]\n",
      " [5 5 5 5 5 5 5]\n",
      " [5 5 5 5 5 5 5]\n",
      " [5 5 5 5 5 5 5]] \n",
      "\n",
      "h has (4, 7) dimensions \n",
      "\n",
      "h is a <class 'numpy.ndarray'> object \n",
      "\n",
      "The elements in h are int32\n"
     ]
    }
   ],
   "source": [
    "# We create a 2 x 3 ndarray full of fives. \n",
    "h = np.full((4,7), 5) \n",
    "\n",
    "print(h, \"\\n\")\n",
    "\n",
    "# We print information about h\n",
    "print(\"h has\", h.shape, \"dimensions\", \"\\n\")\n",
    "print(\"h is a\",  type(h), \"object\", \"\\n\")\n",
    "print(\"The elements in h are\", h.dtype)"
   ]
  },
  {
   "cell_type": "markdown",
   "metadata": {},
   "source": [
    "There is a fundamental array in Linear Algebra called the *Identity Matrix*. An Identity matrix is a *square matrix* that has only 1s in its main diagonal and zeros everywhere else. \n",
    "\n",
    "The function *np.eye(N)* creates a square N x N ndarray corresponding to the Identity matrix. Since all Identity Matrices are square, the *np.eye()* function only takes a single integer as an argument. Let's see an example: "
   ]
  },
  {
   "cell_type": "code",
   "execution_count": 20,
   "metadata": {},
   "outputs": [
    {
     "name": "stdout",
     "output_type": "stream",
     "text": [
      "\n",
      "I = \n",
      " [[1. 0. 0. 0. 0.]\n",
      " [0. 1. 0. 0. 0.]\n",
      " [0. 0. 1. 0. 0.]\n",
      " [0. 0. 0. 1. 0.]\n",
      " [0. 0. 0. 0. 1.]]\n",
      "\n",
      "I has dimensions: (5, 5)\n",
      "I is an object of type: <class 'numpy.ndarray'>\n",
      "The elements in I are of type: float64\n"
     ]
    }
   ],
   "source": [
    "# We create a 5 x 5 Identity matrix. \n",
    "I = np.eye(5)\n",
    "\n",
    "# We print I\n",
    "print()\n",
    "print('I = \\n', I)\n",
    "print()\n",
    "\n",
    "# We print information about I\n",
    "print('I has dimensions:', I.shape)\n",
    "print('I is an object of type:', type(I))\n",
    "print('The elements in I are of type:', I.dtype)"
   ]
  },
  {
   "cell_type": "markdown",
   "metadata": {},
   "source": [
    "We can also create diagonal matrices by using the np.diag() function. A diagonal matrix is a square matrix that only has values in its main diagonal. The *np.diag()* function creates an ndarray corresponding to a diagonal matrix."
   ]
  },
  {
   "cell_type": "code",
   "execution_count": 21,
   "metadata": {},
   "outputs": [
    {
     "name": "stdout",
     "output_type": "stream",
     "text": [
      "[[10  0  0  0]\n",
      " [ 0 20  0  0]\n",
      " [ 0  0 30  0]\n",
      " [ 0  0  0 50]] \n",
      "\n",
      "j has (4, 4) dimensions \n",
      "\n",
      "j is an object of type: <class 'numpy.ndarray'> \n",
      "\n",
      "The elements in j are int32 type \n",
      "\n"
     ]
    }
   ],
   "source": [
    "# Create a 4 x 4 diagonal matrix that contains the numbers 10,20,30, and 50\n",
    "# on its main diagonal\n",
    "j = np.diag([10,20,30,50])\n",
    "\n",
    "# We print X\n",
    "print(j, \"\\n\")\n",
    "\n",
    "\n",
    "# We print information about I\n",
    "print('j has', j.shape, 'dimensions', \"\\n\")\n",
    "print('j is an object of type:', type(j), \"\\n\")\n",
    "print('The elements in j are', j.dtype, 'type', \"\\n\")"
   ]
  },
  {
   "cell_type": "markdown",
   "metadata": {},
   "source": [
    "NumPy also allows you to create ndarrays that have evenly spaced values within a given interval. NumPy's *np.arange()* function is very versatile and can be used with either *one*, *two*, or *three* arguments. Below we will see examples of each case and how they are used to create different kinds of ndarrays.\n",
    "\n",
    "Let's start by using *np.arange()* with only one argument. When used with only one argument, *np.arange(N)* will create a *rank 1* ndarray with consecutive integers between 0 and N - 1. Therefore, notice that if I want an array to have integers between 0 and 9, I have to use N = 10, NOT N = 9, as in the example below:"
   ]
  },
  {
   "cell_type": "code",
   "execution_count": 22,
   "metadata": {},
   "outputs": [
    {
     "name": "stdout",
     "output_type": "stream",
     "text": [
      "[0 1 2 3 4 5 6 7 8 9] \n",
      "\n",
      "k has dimensions: (10,) \n",
      "\n",
      "k is an object of type: <class 'numpy.ndarray'> \n",
      "\n",
      "The elements in k are of type: int32 \n",
      "\n"
     ]
    }
   ],
   "source": [
    "# We create a rank 1 ndarray that has sequential integers from 0 to 9\n",
    "k = np.arange(10)\n",
    "\n",
    "# We print the ndarray\n",
    "print(k, \"\\n\")\n",
    "\n",
    "# We print information about the ndarray\n",
    "print('k has dimensions:', k.shape, \"\\n\")\n",
    "print('k is an object of type:', type(k), \"\\n\")\n",
    "print('The elements in k are of type:', k.dtype, \"\\n\") "
   ]
  },
  {
   "cell_type": "markdown",
   "metadata": {},
   "source": [
    "When only one argument is provided above, it is considered the *stop*. When used with two arguments, np.arange(start,stop) will create a rank 1 ndarray with evenly spaced values within the half-open interval (start, stop). This means the evenly spaced numbers will include start but exclude stop. This uses the slicing concept of python list. Let's see an example"
   ]
  },
  {
   "cell_type": "code",
   "execution_count": 23,
   "metadata": {},
   "outputs": [
    {
     "name": "stdout",
     "output_type": "stream",
     "text": [
      "[4 5 6 7 8] \n",
      "\n",
      "l has a dimension of: (5,) \n",
      "\n",
      "l is an object type: <class 'numpy.ndarray'> \n",
      "\n",
      "The elements in k are of type: int32 \n",
      "\n",
      "the size of l is: 5 \n",
      "\n"
     ]
    }
   ],
   "source": [
    "# We create a rank 1 ndarray that has sequential integers from 4 to 9.\n",
    "l = np.arange(4,9)\n",
    "\n",
    "#We print the ndarray\n",
    "print(l, \"\\n\")\n",
    "\n",
    "#we print information about the ndarray\n",
    "print(\"l has a dimension of:\", l.shape, \"\\n\")\n",
    "print(\"l is an object type:\", type(l), \"\\n\")\n",
    "print('The elements in k are of type:', k.dtype, \"\\n\") \n",
    "print(\"the size of l is:\", l.size, \"\\n\") #the number of element in the array\n",
    "\n",
    "#the function np.arange(4,10) generates a sequence of integers with 4 inclusive and 10 exclusive."
   ]
  },
  {
   "cell_type": "markdown",
   "metadata": {},
   "source": [
    "Finally, when used with three arguments, np.arange(start,stop,step) will create a rank 1 ndarray with evenly spaced values within the half-open interval (start, stop) with step being the distance between two adjacent values. Let's see an example:"
   ]
  },
  {
   "cell_type": "code",
   "execution_count": 24,
   "metadata": {},
   "outputs": [
    {
     "name": "stdout",
     "output_type": "stream",
     "text": [
      "[ 1  4  7 10 13]\n",
      "m has dimensions: (5,) with a size of: 5 \n",
      "\n",
      "m is an object of type: <class 'numpy.ndarray'> \n",
      "\n",
      "The elements in m are of type: int32 \n",
      "\n"
     ]
    }
   ],
   "source": [
    "# We create a rank 1 ndarray that has evenly spaced integers from 1 to 13 in steps of 3.\n",
    "m = np.arange(1,14,3)\n",
    "\n",
    "# We print the ndarray\n",
    "print(m)\n",
    "\n",
    "# We print information about the ndarray\n",
    "print('m has dimensions:', m.shape, \"with a size of:\", m.size, \"\\n\")\n",
    "print('m is an object of type:', type(m), \"\\n\")\n",
    "print('The elements in m are of type:', m.dtype, \"\\n\")\n",
    "#We can see that m has sequential integers between 1 and 13 but the difference between all adjacent values is 3."
   ]
  },
  {
   "cell_type": "markdown",
   "metadata": {},
   "source": [
    "Even though the *np.arange()* function allows for non-integer steps, such as 0.3, the output is usually inconsistent, due to the finite floating point precision. For this reason, in the cases where non-integer steps are required, it is usually better to use the function **np.linspace()**. \n",
    "\n",
    "The **np.linspace(start, stop, N)** function returns N evenly spaced numbers over the closed interval (start, stop). This means that **both the start and the stop values are included (it returns both the start and stop values).** We should also note the *np.linspace()* function needs to be called with at least two arguments in the form np.linspace(start,stop). In a case where the third argument is not provided, the default number of elements in the specified interval will be N = 50.\n",
    "\n",
    "The reason *np.linspace()* works better than the *np.arange()* function, is that np.linspace() uses the number of elements we want in a particular interval, instead of the step between values. Let's see some examples:"
   ]
  },
  {
   "cell_type": "code",
   "execution_count": 25,
   "metadata": {},
   "outputs": [
    {
     "name": "stdout",
     "output_type": "stream",
     "text": [
      "[4.         4.10204082 4.20408163 4.30612245 4.40816327 4.51020408\n",
      " 4.6122449  4.71428571 4.81632653 4.91836735 5.02040816 5.12244898\n",
      " 5.2244898  5.32653061 5.42857143 5.53061224 5.63265306 5.73469388\n",
      " 5.83673469 5.93877551 6.04081633 6.14285714 6.24489796 6.34693878\n",
      " 6.44897959 6.55102041 6.65306122 6.75510204 6.85714286 6.95918367\n",
      " 7.06122449 7.16326531 7.26530612 7.36734694 7.46938776 7.57142857\n",
      " 7.67346939 7.7755102  7.87755102 7.97959184 8.08163265 8.18367347\n",
      " 8.28571429 8.3877551  8.48979592 8.59183673 8.69387755 8.79591837\n",
      " 8.89795918 9.        ] \n",
      "\n"
     ]
    }
   ],
   "source": [
    "# We create a rank 1 ndarray that has sequential integers from 4 to 9 using linspace.\n",
    "l = np.linspace(4,9)\n",
    "\n",
    "#We print the ndarray\n",
    "print(l, \"\\n\")"
   ]
  },
  {
   "cell_type": "code",
   "execution_count": 7,
   "metadata": {},
   "outputs": [
    {
     "name": "stdout",
     "output_type": "stream",
     "text": [
      "[ 0.          2.77777778  5.55555556  8.33333333 11.11111111 13.88888889\n",
      " 16.66666667 19.44444444 22.22222222 25.        ] \n",
      "\n",
      "m has dimensions: (10,) \n",
      "\n",
      "m is an object of type: <class 'numpy.ndarray'> \n",
      "\n",
      "The elements in m are of type: float64\n"
     ]
    }
   ],
   "source": [
    "# We create a rank 1 ndarray that has 10 integers evenly spaced between 0 and 25.\n",
    "m = np.linspace(0,25,10)\n",
    "\n",
    "# We print the ndarray\n",
    "print(m, \"\\n\")\n",
    "\n",
    "# We print information about the ndarray\n",
    "print('m has dimensions:', m.shape, \"\\n\")\n",
    "print('m is an object of type:', type(m), \"\\n\")\n",
    "print('The elements in m are of type:', m.dtype)"
   ]
  },
  {
   "cell_type": "markdown",
   "metadata": {},
   "source": [
    "As we can see from the above example, the function np.linspace(0,25,10) returns an ndarray with 10 evenly spaced numbers in the closed interval (0, 25). We can also see that both the start and end points, 0 and 25 in this case, are included. However, you can let the endpoint of the interval be excluded (just like in the np.arange() function) by setting the keyword endpoint = False in the np.linspace() function. Let's create the same x ndarray we created above but now with the endpoint excluded:"
   ]
  },
  {
   "cell_type": "code",
   "execution_count": 137,
   "metadata": {},
   "outputs": [
    {
     "name": "stdout",
     "output_type": "stream",
     "text": [
      "n =  [ 0.   2.5  5.   7.5 10.  12.5 15.  17.5 20.  22.5] \n",
      "\n",
      "n has dimensions: (10,) \n",
      "\n",
      "n is an object of type: <class 'numpy.ndarray'> \n",
      "\n",
      "The elements in n are of type: float64\n"
     ]
    }
   ],
   "source": [
    "# We create a rank 1 ndarray that has 10 integers evenly spaced between 0 and 25,\n",
    "# with 25 excluded.\n",
    "n = np.linspace(0,25,10, endpoint = False)\n",
    "\n",
    "# We print the ndarray\n",
    "print('n = ', n, \"\\n\")\n",
    "\n",
    "# We print information about the ndarray\n",
    "print('n has dimensions:', n.shape, \"\\n\")\n",
    "print('n is an object of type:', type(n), \"\\n\")\n",
    "print('The elements in n are of type:', n.dtype,) "
   ]
  },
  {
   "cell_type": "markdown",
   "metadata": {},
   "source": [
    "We can use functions discussed previously to create *rank 2* ndarrays of any shape by combining them with the *np.reshape()* function. The *np.reshape(ndarray, new_shape)* function converts the given ndarray into the specified new_shape. \n",
    "\n",
    "It is important to note that the new_shape should be compatible with the number of elements in the given ndarray. For example, you can convert a *rank 1* ndarray with 6 elements, into a 3 x 2 rank 2 ndarray, or a 2 x 3 rank 2 ndarray, since both of these rank 2 arrays will have a total of 6 elements. However, you can't reshape the *rank 1* ndarray with 6 elements into a 3 x 3 *rank 2* ndarray, since this *rank 2* array will have 9 elements, which is greater than the number of elements in the original ndarray. Let's see some examples:"
   ]
  },
  {
   "cell_type": "code",
   "execution_count": 140,
   "metadata": {},
   "outputs": [
    {
     "name": "stdout",
     "output_type": "stream",
     "text": [
      "Original n = [ 0  1  2  3  4  5  6  7  8  9 10 11 12 13 14 15 16 17 18 19] \n",
      "\n",
      "Reshaped n = \n",
      " [[ 0  1  2  3  4]\n",
      " [ 5  6  7  8  9]\n",
      " [10 11 12 13 14]\n",
      " [15 16 17 18 19]] \n",
      "\n",
      "n has dimensions: (4, 5) \n",
      "\n",
      "n is an object of type: <class 'numpy.ndarray'> \n",
      "\n",
      "The elements in n are of type: int32\n"
     ]
    }
   ],
   "source": [
    "# We create a rank 1 ndarray with sequential integers from 0 to 19\n",
    "n = np.arange(20)\n",
    "\n",
    "# We print x\n",
    "print('Original n =', n, \"\\n\")\n",
    "\n",
    "\n",
    "# We reshape x into a 4 x 5 ndarray \n",
    "n = np.reshape(n, (4,5)) # np.reshape(ndarray, new_shape)\n",
    "#n = np.reshape(n, (4,4)) #an attempt like this returns: ValueError: cannot reshape array of size 20 into shape (4,4) \n",
    "\n",
    "# We print the reshaped x\n",
    "print('Reshaped n = \\n', n, \"\\n\")\n",
    "\n",
    "# We print information about the reshaped x\n",
    "print('n has dimensions:', n.shape, \"\\n\")\n",
    "print('n is an object of type:', type(n), \"\\n\")\n",
    "print('The elements in n are of type:', n.dtype) "
   ]
  },
  {
   "cell_type": "markdown",
   "metadata": {},
   "source": [
    "One great feature about NumPy, is that some functions can also be applied as methods. This allows us to apply different functions in sequence in just one line of code. ndarray methods are similar to ndarray attributes in that they are both applied using dot notation (.). Let's see how we can accomplish the same result as in the above example, but in just one line of code:"
   ]
  },
  {
   "cell_type": "code",
   "execution_count": 143,
   "metadata": {},
   "outputs": [
    {
     "name": "stdout",
     "output_type": "stream",
     "text": [
      "n = \n",
      " [[ 0  1  2  3  4]\n",
      " [ 5  6  7  8  9]\n",
      " [10 11 12 13 14]\n",
      " [15 16 17 18 19]] \n",
      "\n",
      "n has dimensions: (4, 5) \n",
      "\n",
      "Y is an object of type: <class 'numpy.ndarray'> \n",
      "\n",
      "The elements in Y are of type: int32 \n",
      "\n"
     ]
    }
   ],
   "source": [
    "# We create a a rank 1 ndarray with sequential integers from 0 to 19 and\n",
    "# reshape it to a 4 x 5 array \n",
    "n = np.arange(20).reshape(4, 5)\n",
    "\n",
    "# We print Y\n",
    "print('n = \\n', n, \"\\n\")\n",
    "\n",
    "# We print information about Y\n",
    "print('n has dimensions:', n.shape, \"\\n\")\n",
    "print('Y is an object of type:', type(Y), \"\\n\")\n",
    "print('The elements in Y are of type:', Y.dtype, \"\\n\") "
   ]
  },
  {
   "cell_type": "markdown",
   "metadata": {},
   "source": [
    "We can also combine *reshape()* with *np.linspace()* to create *rank 2* arrays, as shown in the next example."
   ]
  },
  {
   "cell_type": "code",
   "execution_count": 27,
   "metadata": {},
   "outputs": [
    {
     "name": "stdout",
     "output_type": "stream",
     "text": [
      "\n",
      "p= \n",
      " [[ 0.  5.]\n",
      " [10. 15.]\n",
      " [20. 25.]\n",
      " [30. 35.]\n",
      " [40. 45.]]\n",
      "\n",
      "p has (5, 2) dimensions\n",
      "p is an object of type: <class 'numpy.ndarray'>\n",
      "The elements in p are of type: float64\n"
     ]
    }
   ],
   "source": [
    "# We create a rank 1 ndarray with 10 integers evenly spaced between 0 and 50,\n",
    "# with 50 excluded. We then reshape it to a 5 x 2 ndarray\n",
    "p = np.linspace(0,50,10, endpoint=False).reshape(5,2)\n",
    "\n",
    "# We print p\n",
    "print()\n",
    "print('p= \\n', p)\n",
    "print()\n",
    "\n",
    "# We print information about X\n",
    "print('p has', p.shape, 'dimensions')\n",
    "print('p is an object of type:', type(p))\n",
    "print('The elements in p are of type:', p.dtype)"
   ]
  },
  {
   "cell_type": "markdown",
   "metadata": {},
   "source": [
    "The last type of ndarrays we are going to create are *random ndarrays*. Random ndarrays are arrays that contain random numbers. Often in Machine Learning, you need to create random matrices, for example, when **initializing the weights of a Neural Network**. NumPy offers a variety of random functions to help us create random ndarrays of any shape.\n",
    "\n",
    "Let's start by using the np.random.random(shape) function to create an ndarray of the given shape with random floats in the half-open interval (0.0, 1.0). The np.random(to access the random module in numpy).random(to access the function in the module)"
   ]
  },
  {
   "cell_type": "code",
   "execution_count": 3,
   "metadata": {},
   "outputs": [
    {
     "name": "stdout",
     "output_type": "stream",
     "text": [
      "\n",
      "X = \n",
      " [[0.68370861 0.42011609 0.7180827 ]\n",
      " [0.44196427 0.57643192 0.8971677 ]\n",
      " [0.88613531 0.38481896 0.89320338]]\n",
      "\n",
      "X has dimensions: (3, 3)\n",
      "X is an object of type: <class 'numpy.ndarray'>\n",
      "The elements in x are of type: float64\n"
     ]
    }
   ],
   "source": [
    "import numpy as np\n",
    "# We create a 3 x 3 ndarray with random floats in the half-open interval [0.0, 1.0).\n",
    "X = np.random.random((3,3)) # I observed from my 3rd note that any cell having the random type of ndarray constantly\n",
    "# changes values\n",
    "\n",
    "# We print X\n",
    "print()\n",
    "print('X = \\n', X)\n",
    "print()\n",
    "\n",
    "# We print information about X\n",
    "print('X has dimensions:', X.shape)\n",
    "print('X is an object of type:', type(X))\n",
    "print('The elements in x are of type:', X.dtype)"
   ]
  },
  {
   "cell_type": "markdown",
   "metadata": {},
   "source": [
    "NumPy also allows us to create ndarrays with random integers within a particular interval. The function np.random.randint(start, stop, size = shape) creates an ndarray of the given shape with random integers in the half-open interval (start, stop). Let's see an example:"
   ]
  },
  {
   "cell_type": "code",
   "execution_count": 5,
   "metadata": {},
   "outputs": [
    {
     "name": "stdout",
     "output_type": "stream",
     "text": [
      "\n",
      "X = \n",
      " [[ 8 12]\n",
      " [ 9  9]\n",
      " [13 14]]\n",
      "\n",
      "X has dimensions: (3, 2)\n",
      "X is an object of type: <class 'numpy.ndarray'>\n",
      "The elements in X are of type: int32\n"
     ]
    }
   ],
   "source": [
    "# We create a 3 x 2 ndarray with random integers in the half-open interval (4, 15)\n",
    "X = np.random.randint(4,15,size=(3,2))\n",
    "\n",
    "# We print X\n",
    "print()\n",
    "print('X = \\n', X)\n",
    "print()\n",
    "\n",
    "# We print information about X\n",
    "print('X has dimensions:', X.shape)\n",
    "print('X is an object of type:', type(X))\n",
    "print('The elements in X are of type:', X.dtype)"
   ]
  },
  {
   "cell_type": "markdown",
   "metadata": {},
   "source": [
    "In some cases, you may need to create ndarrays with random numbers that satisfy certain statistical properties. For example, you may want the random numbers in the ndarray to have an average of 0. NumPy allows you create random ndarrays with numbers drawn from various probability distributions. \n",
    "\n",
    "The function np.random.normal(mean, standard deviation, size=shape), the example below creates an ndarray with the given shape that contains random numbers picked from a normal (Gaussian) distribution with the given mean and standard deviation. Let's create a 1,000 x 1,000 ndarray of random floating point numbers drawn from a normal distribution with a mean (average) of zero and a standard deviation of 0.1.\n",
    "\n"
   ]
  },
  {
   "cell_type": "code",
   "execution_count": 153,
   "metadata": {},
   "outputs": [
    {
     "name": "stdout",
     "output_type": "stream",
     "text": [
      "\n",
      "X = \n",
      " [[ 0.03672655 -0.02052673  0.05692076 ...  0.05249922  0.166867\n",
      "   0.09190048]\n",
      " [ 0.01246393  0.10276795 -0.06661881 ...  0.2818065   0.01402967\n",
      "  -0.03909409]\n",
      " [-0.0742496  -0.02337644  0.0335185  ...  0.01191784  0.05738062\n",
      "  -0.18644273]\n",
      " ...\n",
      " [ 0.11374781 -0.00636494 -0.16567695 ... -0.20473204  0.0971057\n",
      "  -0.11319832]\n",
      " [-0.08284611 -0.1369556   0.17746438 ...  0.30001478 -0.06661675\n",
      "  -0.00684479]\n",
      " [-0.06979884  0.22842724 -0.14542452 ...  0.03729527 -0.19619076\n",
      "   0.05072677]]\n",
      "\n",
      "X has dimensions: (1000, 1000)\n",
      "X is an object of type: <class 'numpy.ndarray'>\n",
      "The elements in X are of type: float64\n",
      "The elements in X have a mean of: 7.216967131665424e-05\n",
      "The maximum value in X is: 0.48698061594273273\n",
      "The minimum value in X is: -0.4956678719803058\n",
      "X has 499274 negative numbers\n",
      "X has 500726 positive numbers\n"
     ]
    }
   ],
   "source": [
    "# We create a 1000 x 1000 ndarray of random floats drawn from normal (Gaussian) distribution\n",
    "# with a mean of zero and a standard deviation of 0.1.\n",
    "X = np.random.normal(0, 0.1, size=(1000,1000))\n",
    "\n",
    "# We print X\n",
    "print()\n",
    "print('X = \\n', X)\n",
    "print()\n",
    "\n",
    "# We print information about X\n",
    "print('X has dimensions:', X.shape)\n",
    "print('X is an object of type:', type(X))\n",
    "print('The elements in X are of type:', X.dtype)\n",
    "print('The elements in X have a mean of:', X.mean())\n",
    "print('The maximum value in X is:', X.max())\n",
    "print('The minimum value in X is:', X.min())\n",
    "print('X has', (X < 0).sum(), 'negative numbers')\n",
    "print('X has', (X > 0).sum(), 'positive numbers')"
   ]
  },
  {
   "cell_type": "markdown",
   "metadata": {},
   "source": [
    "As we can see, the average of the random numbers in the ndarray is close to zero, both the maximum and minimum values in X are symmetric about zero (the average), and we have about the same amount of positive and negative numbers."
   ]
  }
 ],
 "metadata": {
  "kernelspec": {
   "display_name": "Python 3",
   "language": "python",
   "name": "python3"
  },
  "language_info": {
   "codemirror_mode": {
    "name": "ipython",
    "version": 3
   },
   "file_extension": ".py",
   "mimetype": "text/x-python",
   "name": "python",
   "nbconvert_exporter": "python",
   "pygments_lexer": "ipython3",
   "version": "3.7.5"
  }
 },
 "nbformat": 4,
 "nbformat_minor": 4
}
